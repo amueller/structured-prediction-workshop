{
 "cells": [
  {
   "cell_type": "markdown",
   "metadata": {},
   "source": [
    "# OCR Letter sequence recognition\n",
    "This example illustrates the use of a chain CRF for optical character\n",
    "recognition. The example is taken from Taskar et al \"Max-margin markov random\n",
    "fields\".\n",
    "\n",
    "Each example consists of a handwritten word, that was presegmented into\n",
    "characters.  Each character is represented as a 16x8 binary image. The task is\n",
    "to classify the image into one of the 26 characters a-z. The first letter of\n",
    "every word was ommited as it was capitalized and the task does only consider\n",
    "small caps letters.\n",
    "\n",
    "We compare classification using a standard linear SVM that classifies\n",
    "each letter individually with a chain CRF that can exploit correlations\n",
    "between neighboring letters (the correlation is particularly strong\n",
    "as the same words are used during training and testsing)."
   ]
  },
  {
   "cell_type": "code",
   "execution_count": null,
   "metadata": {},
   "outputs": [],
   "source": [
    "import numpy as np\n",
    "import matplotlib.pyplot as plt\n",
    "\n",
    "from sklearn.svm import LinearSVC\n",
    "\n",
    "from pystruct.datasets import load_letters\n",
    "from pystruct.models import ChainCRF\n",
    "from pystruct.learners import FrankWolfeSSVM\n",
    "\n",
    "abc = \"abcdefghijklmnopqrstuvwxyz\"\n",
    "\n",
    "letters = load_letters()\n",
    "X, y, folds = letters['data'], letters['labels'], letters['folds']\n",
    "# we convert the lists to object arrays, as that makes slicing much more\n",
    "# convenient\n",
    "X, y = np.array(X), np.array(y)\n",
    "X_train, X_test = X[folds == 1], X[folds != 1]\n",
    "y_train, y_test = y[folds == 1], y[folds != 1]"
   ]
  },
  {
   "cell_type": "code",
   "execution_count": null,
   "metadata": {},
   "outputs": [],
   "source": [
    "# some examples from the training set"
   ]
  },
  {
   "cell_type": "code",
   "execution_count": null,
   "metadata": {},
   "outputs": [],
   "source": [
    "n_words = 4\n",
    "rnd = np.random.RandomState(0)\n",
    "selected = rnd.randint(len(y_train), size=n_words)\n",
    "max_word_len = max([len(y_) for y_ in y_train[selected]])\n",
    "\n",
    "fig, axes = plt.subplots(n_words, max_word_len, figsize=(16, 8))\n",
    "for ind, axes_row in zip(selected, axes):\n",
    "\n",
    "    for i, (a, image, y_true) in enumerate(\n",
    "            zip(axes_row, X_train[ind], y_train[ind])):\n",
    "        a.matshow(image.reshape(16, 8), cmap=plt.cm.Greys)\n",
    "        a.text(0, 3, abc[y_true], color=\"#00AA00\", size=25)\n",
    "        a.set_xticks(())\n",
    "        a.set_yticks(())\n",
    "    for ii in range(i + 1, max_word_len):\n",
    "        axes_row[ii].set_visible(False)"
   ]
  },
  {
   "cell_type": "code",
   "execution_count": null,
   "metadata": {},
   "outputs": [],
   "source": [
    "# Train linear SVM\n",
    "svm = LinearSVC(dual=False, C=.1)\n",
    "# flatten input\n",
    "svm.fit(np.vstack(X_train), np.hstack(y_train))"
   ]
  },
  {
   "cell_type": "code",
   "execution_count": null,
   "metadata": {},
   "outputs": [],
   "source": [
    "# Train linear chain CRF\n",
    "model = ChainCRF()\n",
    "ssvm = FrankWolfeSSVM(model=model, C=.1, max_iter=11)\n",
    "ssvm.fit(X_train, y_train)"
   ]
  },
  {
   "cell_type": "code",
   "execution_count": null,
   "metadata": {},
   "outputs": [],
   "source": [
    "print(\"Test score with chain CRF: %f\" % ssvm.score(X_test, y_test))\n",
    "\n",
    "print(\"Test score with linear SVM: %f\" % svm.score(np.vstack(X_test),\n",
    "                                                   np.hstack(y_test)))"
   ]
  },
  {
   "cell_type": "markdown",
   "metadata": {},
   "source": [
    "\n",
    "This figure shows the segmented letters of four words from the test set.\n",
    "In set are the ground truth (green), the prediction using SVM (blue) and the\n",
    "prediction using a chain CRF (red).\n"
   ]
  },
  {
   "cell_type": "code",
   "execution_count": null,
   "metadata": {},
   "outputs": [],
   "source": [
    "# plot some word sequenced\n",
    "n_words = 4\n",
    "rnd = np.random.RandomState(1)\n",
    "selected = rnd.randint(len(y_test), size=n_words)\n",
    "max_word_len = max([len(y_) for y_ in y_test[selected]])\n",
    "fig, axes = plt.subplots(n_words, max_word_len, figsize=(10, 10))\n",
    "fig.subplots_adjust(wspace=0)\n",
    "\n",
    "for ind, axes_row in zip(selected, axes):\n",
    "    y_pred_svm = svm.predict(X_test[ind])\n",
    "    y_pred_chain = ssvm.predict([X_test[ind]])[0]\n",
    "    for i, (a, image, y_true, y_svm, y_chain) in enumerate(\n",
    "            zip(axes_row, X_test[ind], y_test[ind], y_pred_svm, y_pred_chain)):\n",
    "        a.matshow(image.reshape(16, 8), cmap=plt.cm.Greys)\n",
    "        a.text(0, 3, abc[y_true], color=\"#00AA00\", size=25)\n",
    "        a.text(0, 14, abc[y_svm], color=\"#5555FF\", size=25)\n",
    "        a.text(5, 14, abc[y_chain], color=\"#FF5555\", size=25)\n",
    "        a.set_xticks(())\n",
    "        a.set_yticks(())\n",
    "    for ii in range(i + 1, max_word_len):\n",
    "        axes_row[ii].set_visible(False)\n",
    "\n"
   ]
  },
  {
   "cell_type": "markdown",
   "metadata": {},
   "source": [
    "# Exercises\n",
    "\n",
    "1) Visualize the unary and pairwise relationships learned. These are stored in the w array, first 26 * 16 * 8 uniary weights, then 26 * 26 pairwise weights.\n",
    "What patterns were learned by the pairwise weights?\n",
    "\n",
    "2) Use RBFSampler from sklearn.kernel_approximation to improve the feature representation by using a kernel approximation. How does that improve results for the independent and chain model?"
   ]
  }
 ],
 "metadata": {
  "kernelspec": {
   "display_name": "Python [default]",
   "language": "python",
   "name": "python3"
  },
  "language_info": {
   "codemirror_mode": {
    "name": "ipython",
    "version": 3
   },
   "file_extension": ".py",
   "mimetype": "text/x-python",
   "name": "python",
   "nbconvert_exporter": "python",
   "pygments_lexer": "ipython3",
   "version": "3.6.3"
  }
 },
 "nbformat": 4,
 "nbformat_minor": 2
}
