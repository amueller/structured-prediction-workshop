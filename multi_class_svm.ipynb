{
 "cells": [
  {
   "cell_type": "markdown",
   "metadata": {},
   "source": [
    "# Multi-Class SVMs"
   ]
  },
  {
   "cell_type": "code",
   "execution_count": 5,
   "metadata": {},
   "outputs": [],
   "source": [
    "from time import time\n",
    "import matplotlib.pyplot as plt\n",
    "%matplotlib inline\n",
    "import numpy as np\n",
    "\n",
    "from sklearn.datasets import load_digits\n",
    "from sklearn.model_selection import train_test_split"
   ]
  },
  {
   "cell_type": "code",
   "execution_count": 6,
   "metadata": {},
   "outputs": [
    {
     "name": "stdout",
     "output_type": "stream",
     "text": [
      "(1347, 65)\n"
     ]
    }
   ],
   "source": [
    "from pystruct.models import MultiClassClf\n",
    "from pystruct.learners import NSlackSSVM\n",
    "\n",
    "# do a binary digit classification\n",
    "digits = load_digits()\n",
    "X, y = digits.data, digits.target\n",
    "#X = X / 255.\n",
    "X = X / 16.\n",
    "#y = y.astype(np.int) - 1\n",
    "X_train, X_test, y_train, y_test = train_test_split(X, y)\n",
    "\n",
    "# we add a constant 1 feature for the bias\n",
    "X_train_bias = np.hstack([X_train, np.ones((X_train.shape[0], 1))])\n",
    "X_test_bias = np.hstack([X_test, np.ones((X_test.shape[0], 1))])\n",
    "\n",
    "print(X_train_bias.shape)"
   ]
  },
  {
   "cell_type": "code",
   "execution_count": 7,
   "metadata": {},
   "outputs": [],
   "source": [
    "model = MultiClassClf(n_features=X_train_bias.shape[1], n_classes=10)"
   ]
  },
  {
   "cell_type": "code",
   "execution_count": 13,
   "metadata": {},
   "outputs": [
    {
     "data": {
      "text/plain": [
       "(650,)"
      ]
     },
     "execution_count": 13,
     "metadata": {},
     "output_type": "execute_result"
    }
   ],
   "source": [
    "model.joint_feature(X_train_bias[0], 1).shape"
   ]
  },
  {
   "cell_type": "code",
   "execution_count": 11,
   "metadata": {},
   "outputs": [],
   "source": [
    "n_slack_svm = NSlackSSVM(model, verbose=2, check_constraints=False, C=0.1,\n",
    "                         batch_size=100, tol=1e-2)"
   ]
  },
  {
   "cell_type": "code",
   "execution_count": 19,
   "metadata": {},
   "outputs": [
    {
     "name": "stdout",
     "output_type": "stream",
     "text": [
      "Training n-slack dual structural SVM\n",
      "iteration 0\n",
      "24 support vectors out of 97 points\n",
      "Box constraints at C: 0\n",
      "dual objective: 0.249840\n",
      "66 support vectors out of 194 points\n",
      "Box constraints at C: 16\n",
      "dual objective: 2.045509\n",
      "108 support vectors out of 291 points\n",
      "Box constraints at C: 32\n",
      "dual objective: 3.390943\n",
      "138 support vectors out of 387 points\n",
      "Box constraints at C: 51\n",
      "dual objective: 5.075309\n",
      "186 support vectors out of 476 points\n",
      "Box constraints at C: 80\n",
      "dual objective: 7.866693\n",
      "226 support vectors out of 555 points\n",
      "Box constraints at C: 120\n",
      "dual objective: 10.539251\n",
      "253 support vectors out of 617 points\n",
      "Box constraints at C: 146\n",
      "dual objective: 12.449698\n",
      "284 support vectors out of 673 points\n",
      "Box constraints at C: 166\n",
      "dual objective: 14.248342\n",
      "302 support vectors out of 723 points\n",
      "Box constraints at C: 190\n",
      "dual objective: 15.869553\n",
      "341 support vectors out of 781 points\n",
      "Box constraints at C: 209\n",
      "dual objective: 17.661413\n",
      "355 support vectors out of 824 points\n",
      "Box constraints at C: 231\n",
      "dual objective: 19.077239\n",
      "371 support vectors out of 860 points\n",
      "Box constraints at C: 242\n",
      "dual objective: 20.047408\n",
      "385 support vectors out of 904 points\n",
      "Box constraints at C: 255\n",
      "dual objective: 21.465572\n",
      "423 support vectors out of 947 points\n",
      "Box constraints at C: 279\n",
      "dual objective: 22.977636\n",
      "new constraints: 947, cutting plane objective: 22.977636 primal objective: 84.511631\n",
      "iteration 1\n",
      "432 support vectors out of 979 points\n",
      "Box constraints at C: 287\n",
      "dual objective: 23.809697\n",
      "449 support vectors out of 1013 points\n",
      "Box constraints at C: 300\n",
      "dual objective: 24.439388\n",
      "460 support vectors out of 1041 points\n",
      "Box constraints at C: 316\n",
      "dual objective: 25.512034\n",
      "476 support vectors out of 1068 points\n",
      "Box constraints at C: 328\n",
      "dual objective: 26.379898\n",
      "485 support vectors out of 1095 points\n",
      "Box constraints at C: 337\n",
      "dual objective: 26.864892\n",
      "491 support vectors out of 1110 points\n",
      "Box constraints at C: 341\n",
      "dual objective: 27.150085\n",
      "488 support vectors out of 1119 points\n",
      "Box constraints at C: 341\n",
      "dual objective: 27.251540\n",
      "489 support vectors out of 1133 points\n",
      "Box constraints at C: 341\n",
      "dual objective: 27.401101\n",
      "503 support vectors out of 1147 points\n",
      "Box constraints at C: 340\n",
      "dual objective: 27.545857\n",
      "506 support vectors out of 1160 points\n",
      "Box constraints at C: 344\n",
      "dual objective: 27.672704\n",
      "512 support vectors out of 1174 points\n",
      "Box constraints at C: 346\n",
      "dual objective: 27.730914\n",
      "514 support vectors out of 1186 points\n",
      "Box constraints at C: 354\n",
      "dual objective: 27.842546\n",
      "525 support vectors out of 1195 points\n",
      "Box constraints at C: 355\n",
      "dual objective: 27.867147\n",
      "532 support vectors out of 1210 points\n",
      "Box constraints at C: 349\n",
      "dual objective: 27.970494\n",
      "new constraints: 263, cutting plane objective: 27.970494 primal objective: 31.808976\n",
      "iteration 2\n",
      "525 support vectors out of 1217 points\n",
      "Box constraints at C: 353\n",
      "dual objective: 28.016687\n",
      "531 support vectors out of 1225 points\n",
      "Box constraints at C: 351\n",
      "dual objective: 28.045711\n",
      "549 support vectors out of 1235 points\n",
      "Box constraints at C: 348\n",
      "dual objective: 28.071027\n",
      "554 support vectors out of 1243 points\n",
      "Box constraints at C: 350\n",
      "dual objective: 28.081158\n",
      "549 support vectors out of 1246 points\n",
      "Box constraints at C: 352\n",
      "dual objective: 28.098164\n",
      "544 support vectors out of 1251 points\n",
      "Box constraints at C: 350\n",
      "dual objective: 28.108235\n",
      "545 support vectors out of 1255 points\n",
      "Box constraints at C: 352\n",
      "dual objective: 28.114376\n",
      "543 support vectors out of 1256 points\n",
      "Box constraints at C: 354\n",
      "dual objective: 28.114580\n",
      "560 support vectors out of 1259 points\n",
      "Box constraints at C: 355\n",
      "dual objective: 28.119159\n",
      "550 support vectors out of 1263 points\n",
      "Box constraints at C: 355\n",
      "dual objective: 28.123599\n",
      "549 support vectors out of 1265 points\n",
      "Box constraints at C: 355\n",
      "dual objective: 28.124018\n",
      "546 support vectors out of 1266 points\n",
      "Box constraints at C: 355\n",
      "dual objective: 28.134221\n",
      "547 support vectors out of 1267 points\n",
      "Box constraints at C: 355\n",
      "dual objective: 28.134626\n",
      "new constraints: 57, cutting plane objective: 28.134626 primal objective: 28.511305\n",
      "iteration 3\n",
      "559 support vectors out of 1269 points\n",
      "Box constraints at C: 355\n",
      "dual objective: 28.139998\n",
      "551 support vectors out of 1271 points\n",
      "Box constraints at C: 357\n",
      "dual objective: 28.140834\n",
      "552 support vectors out of 1272 points\n",
      "Box constraints at C: 357\n",
      "dual objective: 28.141096\n",
      "554 support vectors out of 1275 points\n",
      "Box constraints at C: 356\n",
      "dual objective: 28.145801\n",
      "554 support vectors out of 1276 points\n",
      "Box constraints at C: 355\n",
      "dual objective: 28.145807\n",
      "new constraints: 9, cutting plane objective: 28.145807 primal objective: 28.162271\n",
      "iteration 4\n",
      "new constraints: 0, cutting plane objective: 28.145807 primal objective: 28.145808\n",
      "no additional constraints\n",
      "objective converged.\n",
      "calls to inference: 14817\n",
      "Score with pystruct n-slack ssvm: 0.953333 (took 17.781634 seconds)\n"
     ]
    }
   ],
   "source": [
    "# n-slack cutting plane ssvm\n",
    "start = time()\n",
    "n_slack_svm.fit(X_train_bias, y_train)\n",
    "time_n_slack_svm = time() - start\n",
    "y_pred = np.hstack(n_slack_svm.predict(X_test_bias))\n",
    "print(\"Score with pystruct n-slack ssvm: %f (took %f seconds)\"\n",
    "      % (np.mean(y_pred == y_test), time_n_slack_svm))"
   ]
  },
  {
   "cell_type": "code",
   "execution_count": 21,
   "metadata": {},
   "outputs": [
    {
     "data": {
      "text/plain": [
       "(650,)"
      ]
     },
     "execution_count": 21,
     "metadata": {},
     "output_type": "execute_result"
    }
   ],
   "source": [
    "n_slack_svm.w.shape"
   ]
  },
  {
   "cell_type": "code",
   "execution_count": 28,
   "metadata": {},
   "outputs": [
    {
     "data": {
      "text/plain": [
       "<matplotlib.image.AxesImage at 0x7fa843a426d8>"
      ]
     },
     "execution_count": 28,
     "metadata": {},
     "output_type": "execute_result"
    },
    {
     "data": {
      "image/png": "[encoded data removed]",
      "text/plain": [
       "<matplotlib.figure.Figure at 0x7fa843a87cf8>"
      ]
     },
     "metadata": {},
     "output_type": "display_data"
    }
   ],
   "source": [
    "plt.imshow(X_test[0].reshape(8, 8), cmap='gray_r')"
   ]
  },
  {
   "cell_type": "code",
   "execution_count": 23,
   "metadata": {},
   "outputs": [
    {
     "data": {
      "text/plain": [
       "array([9])"
      ]
     },
     "execution_count": 23,
     "metadata": {},
     "output_type": "execute_result"
    }
   ],
   "source": [
    "n_slack_svm.predict([X_test_bias[0]])"
   ]
  },
  {
   "cell_type": "code",
   "execution_count": 32,
   "metadata": {},
   "outputs": [
    {
     "name": "stdout",
     "output_type": "stream",
     "text": [
      "0: 0.517918\n",
      "1: -1.424855\n",
      "2: -0.680596\n",
      "3: 0.005999\n",
      "4: -0.524932\n",
      "5: 0.267443\n",
      "6: -0.466166\n",
      "7: 0.277219\n",
      "8: 0.384943\n",
      "9: 1.643028\n"
     ]
    }
   ],
   "source": [
    "for i in range(10):\n",
    "    print(\"{}: {:2f}\".format(i, np.dot(n_slack_svm.w, n_slack_svm.model.joint_feature(X_test_bias[0], i))))"
   ]
  },
  {
   "cell_type": "code",
   "execution_count": 42,
   "metadata": {},
   "outputs": [
    {
     "data": {
      "image/png": "[encoded data removed]",
      "text/plain": [
       "<matplotlib.figure.Figure at 0x7fa8429d2390>"
      ]
     },
     "metadata": {},
     "output_type": "display_data"
    }
   ],
   "source": [
    "fig, ax = plt.subplots(2, 5, figsize=(10, 5),\n",
    "                       subplot_kw={'xticks': (()), 'yticks':(())})\n",
    "w_perclass = n_slack_svm.w.reshape(10, -1)\n",
    "for i, ax in zip(range(10), ax.ravel()):\n",
    "    ax.imshow(w_perclass[i][:-1].reshape(8, 8), cmap=plt.cm.RdBu)"
   ]
  },
  {
   "cell_type": "code",
   "execution_count": 10,
   "metadata": {},
   "outputs": [
    {
     "data": {
      "text/plain": [
       "<matplotlib.legend.Legend at 0x7fa843d29e48>"
      ]
     },
     "execution_count": 10,
     "metadata": {},
     "output_type": "execute_result"
    },
    {
     "data": {
      "image/png": "[encoded data removed]",
      "text/plain": [
       "<matplotlib.figure.Figure at 0x7fa843c5a978>"
      ]
     },
     "metadata": {},
     "output_type": "display_data"
    }
   ],
   "source": [
    "plt.plot(n_slack_svm.primal_objective_curve_, label=\"primal objective\")\n",
    "plt.plot(n_slack_svm.objective_curve_, label=\"dual objective\")\n",
    "plt.legend()"
   ]
  },
  {
   "cell_type": "markdown",
   "metadata": {},
   "source": [
    "# Exercises\n",
    "1) Replace the n-slack ssvm by a sugradient ssvm.\n",
    "\n",
    "2) Replace the MultiClassClf by a GraphCRF with a single node and no edges."
   ]
  },
  {
   "cell_type": "code",
   "execution_count": null,
   "metadata": {},
   "outputs": [],
   "source": []
  }
 ],
 "metadata": {
  "kernelspec": {
   "display_name": "Python [default]",
   "language": "python",
   "name": "python3"
  },
  "language_info": {
   "codemirror_mode": {
    "name": "ipython",
    "version": 3
   },
   "file_extension": ".py",
   "mimetype": "text/x-python",
   "name": "python",
   "nbconvert_exporter": "python",
   "pygments_lexer": "ipython3",
   "version": "3.6.3"
  }
 },
 "nbformat": 4,
 "nbformat_minor": 2
}
