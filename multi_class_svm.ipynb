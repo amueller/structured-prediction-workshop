{
 "cells": [
  {
   "cell_type": "markdown",
   "metadata": {},
   "source": [
    "# Multi-Class SVMs"
   ]
  },
  {
   "cell_type": "code",
   "execution_count": null,
   "metadata": {},
   "outputs": [],
   "source": [
    "from time import time\n",
    "import matplotlib.pyplot as plt\n",
    "%matplotlib inline\n",
    "import numpy as np\n",
    "\n",
    "from sklearn.datasets import load_digits\n",
    "from sklearn.model_selection import train_test_split"
   ]
  },
  {
   "cell_type": "code",
   "execution_count": null,
   "metadata": {},
   "outputs": [],
   "source": [
    "from pystruct.models import MultiClassClf\n",
    "from pystruct.learners import NSlackSSVM\n",
    "\n",
    "# do a binary digit classification\n",
    "digits = load_digits()\n",
    "X, y = digits.data, digits.target\n",
    "#X = X / 255.\n",
    "X = X / 16.\n",
    "#y = y.astype(np.int) - 1\n",
    "X_train, X_test, y_train, y_test = train_test_split(X, y)\n",
    "\n",
    "# we add a constant 1 feature for the bias\n",
    "X_train_bias = np.hstack([X_train, np.ones((X_train.shape[0], 1))])\n",
    "X_test_bias = np.hstack([X_test, np.ones((X_test.shape[0], 1))])\n",
    "\n",
    "print(X_train_bias.shape)"
   ]
  },
  {
   "cell_type": "code",
   "execution_count": null,
   "metadata": {},
   "outputs": [],
   "source": [
    "model = MultiClassClf(n_features=X_train_bias.shape[1], n_classes=10)"
   ]
  },
  {
   "cell_type": "code",
   "execution_count": null,
   "metadata": {},
   "outputs": [],
   "source": [
    "model.joint_feature(X_train_bias[0], 1).shape"
   ]
  },
  {
   "cell_type": "code",
   "execution_count": null,
   "metadata": {},
   "outputs": [],
   "source": [
    "n_slack_svm = NSlackSSVM(model, verbose=2, check_constraints=False, C=0.1,\n",
    "                         batch_size=100, tol=1e-2)"
   ]
  },
  {
   "cell_type": "code",
   "execution_count": null,
   "metadata": {},
   "outputs": [],
   "source": [
    "# n-slack cutting plane ssvm\n",
    "start = time()\n",
    "n_slack_svm.fit(X_train_bias, y_train)\n",
    "time_n_slack_svm = time() - start\n",
    "y_pred = np.hstack(n_slack_svm.predict(X_test_bias))\n",
    "print(\"Score with pystruct n-slack ssvm: %f (took %f seconds)\"\n",
    "      % (np.mean(y_pred == y_test), time_n_slack_svm))"
   ]
  },
  {
   "cell_type": "code",
   "execution_count": null,
   "metadata": {},
   "outputs": [],
   "source": [
    "n_slack_svm.w.shape"
   ]
  },
  {
   "cell_type": "code",
   "execution_count": null,
   "metadata": {},
   "outputs": [],
   "source": [
    "plt.imshow(X_test[0].reshape(8, 8), cmap='gray_r')"
   ]
  },
  {
   "cell_type": "code",
   "execution_count": null,
   "metadata": {},
   "outputs": [],
   "source": [
    "n_slack_svm.predict([X_test_bias[0]])"
   ]
  },
  {
   "cell_type": "code",
   "execution_count": null,
   "metadata": {},
   "outputs": [],
   "source": [
    "for i in range(10):\n",
    "    print(\"{}: {:2f}\".format(i, np.dot(n_slack_svm.w, n_slack_svm.model.joint_feature(X_test_bias[0], i))))"
   ]
  },
  {
   "cell_type": "code",
   "execution_count": null,
   "metadata": {},
   "outputs": [],
   "source": [
    "fig, ax = plt.subplots(2, 5, figsize=(10, 5),\n",
    "                       subplot_kw={'xticks': (()), 'yticks':(())})\n",
    "w_perclass = n_slack_svm.w.reshape(10, -1)\n",
    "for i, ax in zip(range(10), ax.ravel()):\n",
    "    ax.imshow(w_perclass[i][:-1].reshape(8, 8), cmap=plt.cm.RdBu)"
   ]
  },
  {
   "cell_type": "code",
   "execution_count": null,
   "metadata": {},
   "outputs": [],
   "source": [
    "plt.plot(n_slack_svm.primal_objective_curve_, label=\"primal objective\")\n",
    "plt.plot(n_slack_svm.objective_curve_, label=\"dual objective\")\n",
    "plt.legend()"
   ]
  },
  {
   "cell_type": "markdown",
   "metadata": {},
   "source": [
    "# Exercises\n",
    "1) Replace the n-slack ssvm by a sugradient ssvm.\n",
    "\n",
    "2) Replace the MultiClassClf by a GraphCRF with a single node and no edges."
   ]
  }
 ],
 "metadata": {
  "kernelspec": {
   "display_name": "Python [default]",
   "language": "python",
   "name": "python3"
  },
  "language_info": {
   "codemirror_mode": {
    "name": "ipython",
    "version": 3
   },
   "file_extension": ".py",
   "mimetype": "text/x-python",
   "name": "python",
   "nbconvert_exporter": "python",
   "pygments_lexer": "ipython3",
   "version": "3.6.3"
  }
 },
 "nbformat": 4,
 "nbformat_minor": 2
}
