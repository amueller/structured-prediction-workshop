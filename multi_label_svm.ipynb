{
 "cells": [
  {
   "cell_type": "markdown",
   "metadata": {},
   "source": [
    "# Multi-Label SVM"
   ]
  },
  {
   "cell_type": "code",
   "execution_count": null,
   "metadata": {},
   "outputs": [],
   "source": [
    "import itertools\n",
    "\n",
    "import numpy as np\n",
    "from scipy import sparse\n",
    "from pystruct.datasets import load_scene\n",
    "\n",
    "scene = load_scene()\n",
    "X_train, X_test = scene['X_train'], scene['X_test']\n",
    "y_train, y_test = scene['y_train'], scene['y_test']\n",
    "\n",
    "n_labels = y_train.shape[1]"
   ]
  },
  {
   "cell_type": "code",
   "execution_count": null,
   "metadata": {},
   "outputs": [],
   "source": [
    "X_train.shape"
   ]
  },
  {
   "cell_type": "code",
   "execution_count": null,
   "metadata": {},
   "outputs": [],
   "source": [
    "y_train.shape"
   ]
  },
  {
   "cell_type": "code",
   "execution_count": null,
   "metadata": {},
   "outputs": [],
   "source": [
    "X_test.shape"
   ]
  },
  {
   "cell_type": "code",
   "execution_count": null,
   "metadata": {},
   "outputs": [],
   "source": [
    "from pystruct.learners import OneSlackSSVM\n",
    "from pystruct.models import MultiLabelClf\n",
    "\n",
    "independent_model = MultiLabelClf(inference_method='unary')\n",
    "independent_ssvm = OneSlackSSVM(independent_model, C=.1, tol=0.01)\n",
    "independent_ssvm.fit(X_train, y_train)"
   ]
  },
  {
   "cell_type": "code",
   "execution_count": null,
   "metadata": {},
   "outputs": [],
   "source": [
    "independent_ssvm.score(X_test, y_test)"
   ]
  },
  {
   "cell_type": "code",
   "execution_count": null,
   "metadata": {},
   "outputs": [],
   "source": [
    "independent_ssvm.w.shape"
   ]
  },
  {
   "cell_type": "code",
   "execution_count": null,
   "metadata": {},
   "outputs": [],
   "source": [
    "X_train.shape[1] * y_train.shape[1]"
   ]
  },
  {
   "cell_type": "code",
   "execution_count": null,
   "metadata": {},
   "outputs": [],
   "source": [
    "full_edges = np.vstack([x for x in itertools.combinations(range(n_labels), 2)])\n",
    "# edges are the same for each sample, so can put them into the model\n",
    "full_model = MultiLabelClf(edges=full_edges, inference_method='qpbo')\n",
    "full_ssvm = OneSlackSSVM(full_model, inference_cache=50, C=.1, tol=0.01)\n",
    "full_ssvm.fit(X_train, y_train)"
   ]
  },
  {
   "cell_type": "code",
   "execution_count": null,
   "metadata": {},
   "outputs": [],
   "source": [
    "full_ssvm.score(X_test, y_test)"
   ]
  },
  {
   "cell_type": "code",
   "execution_count": null,
   "metadata": {},
   "outputs": [],
   "source": [
    "full_ssvm.w.shape"
   ]
  },
  {
   "cell_type": "code",
   "execution_count": null,
   "metadata": {},
   "outputs": [],
   "source": [
    "full_ssvm.w.shape[0] - independent_ssvm.w.shape[0]"
   ]
  },
  {
   "cell_type": "code",
   "execution_count": null,
   "metadata": {},
   "outputs": [],
   "source": [
    "full_edges.shape  # 15 edges, each with 4 parameters (2x2 matrix of compatibilities)"
   ]
  },
  {
   "cell_type": "code",
   "execution_count": null,
   "metadata": {},
   "outputs": [],
   "source": [
    "from sklearn.metrics import mutual_info_score\n",
    "from scipy.sparse.csgraph import minimum_spanning_tree\n",
    "\n",
    "def chow_liu_tree(y_):\n",
    "    # compute mutual information using sklearn\n",
    "    n_labels = y_.shape[1]\n",
    "    mi = np.zeros((n_labels, n_labels))\n",
    "    for i in range(n_labels):\n",
    "        for j in range(n_labels):\n",
    "            mi[i, j] = mutual_info_score(y_[:, i], y_[:, j])\n",
    "    mst = minimum_spanning_tree(sparse.csr_matrix(-mi))\n",
    "    edges = np.vstack(mst.nonzero()).T\n",
    "    edges.sort(axis=1)\n",
    "    return edges"
   ]
  },
  {
   "cell_type": "markdown",
   "metadata": {},
   "source": [
    "# Exercise\n",
    "1) Run a model using edges produced by the Chow-Liu tree. Use ``inference='max-product'`` as exact inference can be run in a tree. How many parameters do you expect the model to have?\n",
    "2) Compare the training and test accuracy of the three models, as well as the runtime."
   ]
  }
 ],
 "metadata": {
  "kernelspec": {
   "display_name": "Python [default]",
   "language": "python",
   "name": "python3"
  },
  "language_info": {
   "codemirror_mode": {
    "name": "ipython",
    "version": 3
   },
   "file_extension": ".py",
   "mimetype": "text/x-python",
   "name": "python",
   "nbconvert_exporter": "python",
   "pygments_lexer": "ipython3",
   "version": "3.6.3"
  }
 },
 "nbformat": 4,
 "nbformat_minor": 2
}
